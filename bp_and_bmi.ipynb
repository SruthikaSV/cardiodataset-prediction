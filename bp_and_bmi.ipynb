{
 "cells": [
  {
   "cell_type": "code",
   "execution_count": 1,
   "metadata": {
    "collapsed": true
   },
   "outputs": [],
   "source": [
    "import pandas as pd\n",
    "import numpy as np\n",
    "from statistics import mean"
   ]
  },
  {
   "cell_type": "code",
   "execution_count": 2,
   "metadata": {
    "collapsed": true
   },
   "outputs": [],
   "source": [
    "# load the data\n",
    "data = pd.read_csv('normalized_data.csv')  # cleaned and normalized data\n",
    "data = data.dropna()\n",
    "\n",
    "# create feature vectors\n",
    "bp_x = data.drop(labels=['ap_lo', 'ap_hi', 'cardio', 'bp', 'bmi'], axis=1)\n",
    "bmi_x = data.drop(labels=['bmi', 'height', 'weight', 'bp'], axis=1)\n",
    "\n",
    "# create label vectors\n",
    "ap_lo = data['ap_lo']\n",
    "ap_hi = data['ap_hi']\n",
    "cardio = data['cardio']\n",
    "bp = data['bp']\n",
    "bmi = data['bmi']"
   ]
  },
  {
   "cell_type": "code",
   "execution_count": 3,
   "metadata": {
    "scrolled": false
   },
   "outputs": [
    {
     "data": {
      "text/html": [
       "<div>\n",
       "<style>\n",
       "    .dataframe thead tr:only-child th {\n",
       "        text-align: right;\n",
       "    }\n",
       "\n",
       "    .dataframe thead th {\n",
       "        text-align: left;\n",
       "    }\n",
       "\n",
       "    .dataframe tbody tr th {\n",
       "        vertical-align: top;\n",
       "    }\n",
       "</style>\n",
       "<table border=\"1\" class=\"dataframe\">\n",
       "  <thead>\n",
       "    <tr style=\"text-align: right;\">\n",
       "      <th></th>\n",
       "      <th>age</th>\n",
       "      <th>height</th>\n",
       "      <th>weight</th>\n",
       "      <th>gender</th>\n",
       "      <th>smoke</th>\n",
       "      <th>alco</th>\n",
       "      <th>active</th>\n",
       "      <th>cholesterol_1</th>\n",
       "      <th>cholesterol_2</th>\n",
       "      <th>cholesterol_3</th>\n",
       "      <th>gluc_1</th>\n",
       "      <th>gluc_2</th>\n",
       "    </tr>\n",
       "  </thead>\n",
       "  <tbody>\n",
       "    <tr>\n",
       "      <th>count</th>\n",
       "      <td>68023.000000</td>\n",
       "      <td>68023.000000</td>\n",
       "      <td>68023.000000</td>\n",
       "      <td>68023.000000</td>\n",
       "      <td>68023.000000</td>\n",
       "      <td>68023.000000</td>\n",
       "      <td>68023.000000</td>\n",
       "      <td>68023.000000</td>\n",
       "      <td>68023.000000</td>\n",
       "      <td>68023.000000</td>\n",
       "      <td>68023.00000</td>\n",
       "      <td>68023.000000</td>\n",
       "    </tr>\n",
       "    <tr>\n",
       "      <th>mean</th>\n",
       "      <td>0.671328</td>\n",
       "      <td>0.560808</td>\n",
       "      <td>0.333974</td>\n",
       "      <td>0.348691</td>\n",
       "      <td>0.088014</td>\n",
       "      <td>0.053585</td>\n",
       "      <td>0.803566</td>\n",
       "      <td>0.749791</td>\n",
       "      <td>0.135572</td>\n",
       "      <td>0.114638</td>\n",
       "      <td>0.85033</td>\n",
       "      <td>0.073607</td>\n",
       "    </tr>\n",
       "    <tr>\n",
       "      <th>std</th>\n",
       "      <td>0.192800</td>\n",
       "      <td>0.042097</td>\n",
       "      <td>0.075844</td>\n",
       "      <td>0.476559</td>\n",
       "      <td>0.283318</td>\n",
       "      <td>0.225198</td>\n",
       "      <td>0.397303</td>\n",
       "      <td>0.433137</td>\n",
       "      <td>0.342336</td>\n",
       "      <td>0.318587</td>\n",
       "      <td>0.35675</td>\n",
       "      <td>0.261133</td>\n",
       "    </tr>\n",
       "    <tr>\n",
       "      <th>min</th>\n",
       "      <td>0.000000</td>\n",
       "      <td>0.000000</td>\n",
       "      <td>0.000000</td>\n",
       "      <td>0.000000</td>\n",
       "      <td>0.000000</td>\n",
       "      <td>0.000000</td>\n",
       "      <td>0.000000</td>\n",
       "      <td>0.000000</td>\n",
       "      <td>0.000000</td>\n",
       "      <td>0.000000</td>\n",
       "      <td>0.00000</td>\n",
       "      <td>0.000000</td>\n",
       "    </tr>\n",
       "    <tr>\n",
       "      <th>25%</th>\n",
       "      <td>0.527778</td>\n",
       "      <td>0.533333</td>\n",
       "      <td>0.285714</td>\n",
       "      <td>0.000000</td>\n",
       "      <td>0.000000</td>\n",
       "      <td>0.000000</td>\n",
       "      <td>1.000000</td>\n",
       "      <td>0.000000</td>\n",
       "      <td>0.000000</td>\n",
       "      <td>0.000000</td>\n",
       "      <td>1.00000</td>\n",
       "      <td>0.000000</td>\n",
       "    </tr>\n",
       "    <tr>\n",
       "      <th>50%</th>\n",
       "      <td>0.694444</td>\n",
       "      <td>0.564103</td>\n",
       "      <td>0.322751</td>\n",
       "      <td>0.000000</td>\n",
       "      <td>0.000000</td>\n",
       "      <td>0.000000</td>\n",
       "      <td>1.000000</td>\n",
       "      <td>1.000000</td>\n",
       "      <td>0.000000</td>\n",
       "      <td>0.000000</td>\n",
       "      <td>1.00000</td>\n",
       "      <td>0.000000</td>\n",
       "    </tr>\n",
       "    <tr>\n",
       "      <th>75%</th>\n",
       "      <td>0.805556</td>\n",
       "      <td>0.589744</td>\n",
       "      <td>0.375661</td>\n",
       "      <td>1.000000</td>\n",
       "      <td>0.000000</td>\n",
       "      <td>0.000000</td>\n",
       "      <td>1.000000</td>\n",
       "      <td>1.000000</td>\n",
       "      <td>0.000000</td>\n",
       "      <td>0.000000</td>\n",
       "      <td>1.00000</td>\n",
       "      <td>0.000000</td>\n",
       "    </tr>\n",
       "    <tr>\n",
       "      <th>max</th>\n",
       "      <td>1.000000</td>\n",
       "      <td>1.000000</td>\n",
       "      <td>1.000000</td>\n",
       "      <td>1.000000</td>\n",
       "      <td>1.000000</td>\n",
       "      <td>1.000000</td>\n",
       "      <td>1.000000</td>\n",
       "      <td>1.000000</td>\n",
       "      <td>1.000000</td>\n",
       "      <td>1.000000</td>\n",
       "      <td>1.00000</td>\n",
       "      <td>1.000000</td>\n",
       "    </tr>\n",
       "  </tbody>\n",
       "</table>\n",
       "</div>"
      ],
      "text/plain": [
       "                age        height        weight        gender         smoke  \\\n",
       "count  68023.000000  68023.000000  68023.000000  68023.000000  68023.000000   \n",
       "mean       0.671328      0.560808      0.333974      0.348691      0.088014   \n",
       "std        0.192800      0.042097      0.075844      0.476559      0.283318   \n",
       "min        0.000000      0.000000      0.000000      0.000000      0.000000   \n",
       "25%        0.527778      0.533333      0.285714      0.000000      0.000000   \n",
       "50%        0.694444      0.564103      0.322751      0.000000      0.000000   \n",
       "75%        0.805556      0.589744      0.375661      1.000000      0.000000   \n",
       "max        1.000000      1.000000      1.000000      1.000000      1.000000   \n",
       "\n",
       "               alco        active  cholesterol_1  cholesterol_2  \\\n",
       "count  68023.000000  68023.000000   68023.000000   68023.000000   \n",
       "mean       0.053585      0.803566       0.749791       0.135572   \n",
       "std        0.225198      0.397303       0.433137       0.342336   \n",
       "min        0.000000      0.000000       0.000000       0.000000   \n",
       "25%        0.000000      1.000000       0.000000       0.000000   \n",
       "50%        0.000000      1.000000       1.000000       0.000000   \n",
       "75%        0.000000      1.000000       1.000000       0.000000   \n",
       "max        1.000000      1.000000       1.000000       1.000000   \n",
       "\n",
       "       cholesterol_3       gluc_1        gluc_2  \n",
       "count   68023.000000  68023.00000  68023.000000  \n",
       "mean        0.114638      0.85033      0.073607  \n",
       "std         0.318587      0.35675      0.261133  \n",
       "min         0.000000      0.00000      0.000000  \n",
       "25%         0.000000      1.00000      0.000000  \n",
       "50%         0.000000      1.00000      0.000000  \n",
       "75%         0.000000      1.00000      0.000000  \n",
       "max         1.000000      1.00000      1.000000  "
      ]
     },
     "execution_count": 3,
     "metadata": {},
     "output_type": "execute_result"
    }
   ],
   "source": [
    "bp_x.describe()"
   ]
  },
  {
   "cell_type": "code",
   "execution_count": 4,
   "metadata": {},
   "outputs": [
    {
     "data": {
      "text/html": [
       "<div>\n",
       "<style>\n",
       "    .dataframe thead tr:only-child th {\n",
       "        text-align: right;\n",
       "    }\n",
       "\n",
       "    .dataframe thead th {\n",
       "        text-align: left;\n",
       "    }\n",
       "\n",
       "    .dataframe tbody tr th {\n",
       "        vertical-align: top;\n",
       "    }\n",
       "</style>\n",
       "<table border=\"1\" class=\"dataframe\">\n",
       "  <thead>\n",
       "    <tr style=\"text-align: right;\">\n",
       "      <th></th>\n",
       "      <th>age</th>\n",
       "      <th>ap_hi</th>\n",
       "      <th>ap_lo</th>\n",
       "      <th>gender</th>\n",
       "      <th>smoke</th>\n",
       "      <th>alco</th>\n",
       "      <th>active</th>\n",
       "      <th>cardio</th>\n",
       "      <th>cholesterol_1</th>\n",
       "      <th>cholesterol_2</th>\n",
       "      <th>cholesterol_3</th>\n",
       "      <th>gluc_1</th>\n",
       "      <th>gluc_2</th>\n",
       "    </tr>\n",
       "  </thead>\n",
       "  <tbody>\n",
       "    <tr>\n",
       "      <th>count</th>\n",
       "      <td>68023.000000</td>\n",
       "      <td>68023.000000</td>\n",
       "      <td>68023.000000</td>\n",
       "      <td>68023.000000</td>\n",
       "      <td>68023.000000</td>\n",
       "      <td>68023.000000</td>\n",
       "      <td>68023.000000</td>\n",
       "      <td>68023.000000</td>\n",
       "      <td>68023.000000</td>\n",
       "      <td>68023.000000</td>\n",
       "      <td>68023.000000</td>\n",
       "      <td>68023.00000</td>\n",
       "      <td>68023.000000</td>\n",
       "    </tr>\n",
       "    <tr>\n",
       "      <th>mean</th>\n",
       "      <td>0.671328</td>\n",
       "      <td>0.708437</td>\n",
       "      <td>0.582010</td>\n",
       "      <td>0.348691</td>\n",
       "      <td>0.088014</td>\n",
       "      <td>0.053585</td>\n",
       "      <td>0.803566</td>\n",
       "      <td>0.494906</td>\n",
       "      <td>0.749791</td>\n",
       "      <td>0.135572</td>\n",
       "      <td>0.114638</td>\n",
       "      <td>0.85033</td>\n",
       "      <td>0.073607</td>\n",
       "    </tr>\n",
       "    <tr>\n",
       "      <th>std</th>\n",
       "      <td>0.192800</td>\n",
       "      <td>0.045866</td>\n",
       "      <td>0.038051</td>\n",
       "      <td>0.476559</td>\n",
       "      <td>0.283318</td>\n",
       "      <td>0.225198</td>\n",
       "      <td>0.397303</td>\n",
       "      <td>0.499978</td>\n",
       "      <td>0.433137</td>\n",
       "      <td>0.342336</td>\n",
       "      <td>0.318587</td>\n",
       "      <td>0.35675</td>\n",
       "      <td>0.261133</td>\n",
       "    </tr>\n",
       "    <tr>\n",
       "      <th>min</th>\n",
       "      <td>0.000000</td>\n",
       "      <td>0.000000</td>\n",
       "      <td>0.000000</td>\n",
       "      <td>0.000000</td>\n",
       "      <td>0.000000</td>\n",
       "      <td>0.000000</td>\n",
       "      <td>0.000000</td>\n",
       "      <td>0.000000</td>\n",
       "      <td>0.000000</td>\n",
       "      <td>0.000000</td>\n",
       "      <td>0.000000</td>\n",
       "      <td>0.00000</td>\n",
       "      <td>0.000000</td>\n",
       "    </tr>\n",
       "    <tr>\n",
       "      <th>25%</th>\n",
       "      <td>0.527778</td>\n",
       "      <td>0.692308</td>\n",
       "      <td>0.576923</td>\n",
       "      <td>0.000000</td>\n",
       "      <td>0.000000</td>\n",
       "      <td>0.000000</td>\n",
       "      <td>1.000000</td>\n",
       "      <td>0.000000</td>\n",
       "      <td>0.000000</td>\n",
       "      <td>0.000000</td>\n",
       "      <td>0.000000</td>\n",
       "      <td>1.00000</td>\n",
       "      <td>0.000000</td>\n",
       "    </tr>\n",
       "    <tr>\n",
       "      <th>50%</th>\n",
       "      <td>0.694444</td>\n",
       "      <td>0.692308</td>\n",
       "      <td>0.576923</td>\n",
       "      <td>0.000000</td>\n",
       "      <td>0.000000</td>\n",
       "      <td>0.000000</td>\n",
       "      <td>1.000000</td>\n",
       "      <td>0.000000</td>\n",
       "      <td>1.000000</td>\n",
       "      <td>0.000000</td>\n",
       "      <td>0.000000</td>\n",
       "      <td>1.00000</td>\n",
       "      <td>0.000000</td>\n",
       "    </tr>\n",
       "    <tr>\n",
       "      <th>75%</th>\n",
       "      <td>0.805556</td>\n",
       "      <td>0.743590</td>\n",
       "      <td>0.615385</td>\n",
       "      <td>1.000000</td>\n",
       "      <td>0.000000</td>\n",
       "      <td>0.000000</td>\n",
       "      <td>1.000000</td>\n",
       "      <td>1.000000</td>\n",
       "      <td>1.000000</td>\n",
       "      <td>0.000000</td>\n",
       "      <td>0.000000</td>\n",
       "      <td>1.00000</td>\n",
       "      <td>0.000000</td>\n",
       "    </tr>\n",
       "    <tr>\n",
       "      <th>max</th>\n",
       "      <td>1.000000</td>\n",
       "      <td>1.000000</td>\n",
       "      <td>1.000000</td>\n",
       "      <td>1.000000</td>\n",
       "      <td>1.000000</td>\n",
       "      <td>1.000000</td>\n",
       "      <td>1.000000</td>\n",
       "      <td>1.000000</td>\n",
       "      <td>1.000000</td>\n",
       "      <td>1.000000</td>\n",
       "      <td>1.000000</td>\n",
       "      <td>1.00000</td>\n",
       "      <td>1.000000</td>\n",
       "    </tr>\n",
       "  </tbody>\n",
       "</table>\n",
       "</div>"
      ],
      "text/plain": [
       "                age         ap_hi         ap_lo        gender         smoke  \\\n",
       "count  68023.000000  68023.000000  68023.000000  68023.000000  68023.000000   \n",
       "mean       0.671328      0.708437      0.582010      0.348691      0.088014   \n",
       "std        0.192800      0.045866      0.038051      0.476559      0.283318   \n",
       "min        0.000000      0.000000      0.000000      0.000000      0.000000   \n",
       "25%        0.527778      0.692308      0.576923      0.000000      0.000000   \n",
       "50%        0.694444      0.692308      0.576923      0.000000      0.000000   \n",
       "75%        0.805556      0.743590      0.615385      1.000000      0.000000   \n",
       "max        1.000000      1.000000      1.000000      1.000000      1.000000   \n",
       "\n",
       "               alco        active        cardio  cholesterol_1  cholesterol_2  \\\n",
       "count  68023.000000  68023.000000  68023.000000   68023.000000   68023.000000   \n",
       "mean       0.053585      0.803566      0.494906       0.749791       0.135572   \n",
       "std        0.225198      0.397303      0.499978       0.433137       0.342336   \n",
       "min        0.000000      0.000000      0.000000       0.000000       0.000000   \n",
       "25%        0.000000      1.000000      0.000000       0.000000       0.000000   \n",
       "50%        0.000000      1.000000      0.000000       1.000000       0.000000   \n",
       "75%        0.000000      1.000000      1.000000       1.000000       0.000000   \n",
       "max        1.000000      1.000000      1.000000       1.000000       1.000000   \n",
       "\n",
       "       cholesterol_3       gluc_1        gluc_2  \n",
       "count   68023.000000  68023.00000  68023.000000  \n",
       "mean        0.114638      0.85033      0.073607  \n",
       "std         0.318587      0.35675      0.261133  \n",
       "min         0.000000      0.00000      0.000000  \n",
       "25%         0.000000      1.00000      0.000000  \n",
       "50%         0.000000      1.00000      0.000000  \n",
       "75%         0.000000      1.00000      0.000000  \n",
       "max         1.000000      1.00000      1.000000  "
      ]
     },
     "execution_count": 4,
     "metadata": {},
     "output_type": "execute_result"
    }
   ],
   "source": [
    "bmi_x.describe()"
   ]
  },
  {
   "cell_type": "code",
   "execution_count": 5,
   "metadata": {},
   "outputs": [
    {
     "data": {
      "text/plain": [
       "count    68023.000000\n",
       "mean         0.708437\n",
       "std          0.045866\n",
       "min          0.000000\n",
       "25%          0.692308\n",
       "50%          0.692308\n",
       "75%          0.743590\n",
       "max          1.000000\n",
       "Name: ap_hi, dtype: float64"
      ]
     },
     "execution_count": 5,
     "metadata": {},
     "output_type": "execute_result"
    }
   ],
   "source": [
    "ap_hi.describe()"
   ]
  },
  {
   "cell_type": "code",
   "execution_count": 6,
   "metadata": {},
   "outputs": [
    {
     "data": {
      "text/plain": [
       "count    68023.000000\n",
       "mean        27.530371\n",
       "std          6.096176\n",
       "min          3.471784\n",
       "25%         23.875115\n",
       "50%         26.346494\n",
       "75%         30.119376\n",
       "max        298.666667\n",
       "Name: bmi, dtype: float64"
      ]
     },
     "execution_count": 6,
     "metadata": {},
     "output_type": "execute_result"
    }
   ],
   "source": [
    "bmi.describe()"
   ]
  },
  {
   "cell_type": "code",
   "execution_count": 7,
   "metadata": {},
   "outputs": [
    {
     "data": {
      "text/plain": [
       "count    68023.000000\n",
       "mean         1.212384\n",
       "std          0.738666\n",
       "min          0.000000\n",
       "25%          1.000000\n",
       "50%          1.000000\n",
       "75%          2.000000\n",
       "max          2.000000\n",
       "Name: bp, dtype: float64"
      ]
     },
     "execution_count": 7,
     "metadata": {},
     "output_type": "execute_result"
    }
   ],
   "source": [
    "bp.describe()"
   ]
  },
  {
   "cell_type": "code",
   "execution_count": 8,
   "metadata": {
    "collapsed": true
   },
   "outputs": [],
   "source": [
    "from sklearn.linear_model import LinearRegression, LogisticRegression\n",
    "from sklearn.model_selection import cross_val_score, GridSearchCV, train_test_split\n",
    "from sklearn.svm import SVR, SVC\n",
    "\n",
    "\n",
    "def linear_model(features, target, cv=10):\n",
    "    X_train, X_test, y_train, y_test = train_test_split(features, target, test_size=0.2, random_state=42)\n",
    "    model = LinearRegression()\n",
    "    model.fit(X_train, y_train)\n",
    "    print(\"score:\", model.score(X_test, y_test))\n",
    "    print(\"score:\", cross_val_score(model, features, target, cv=cv))\n",
    "    print(\"coefs:\", model.coef_)"
   ]
  },
  {
   "cell_type": "code",
   "execution_count": 9,
   "metadata": {
    "collapsed": true
   },
   "outputs": [],
   "source": [
    "def svr_model(features, target, cv=10):\n",
    "    X_train, X_test, y_train, y_test = train_test_split(features, target, test_size=0.2, random_state=42)\n",
    "    model = SVR(kernel='rbf', gamma=1e-5, C=10)\n",
    "    model.fit(X_train, y_train)\n",
    "    print(cross_val_score(model, features, target, cv=cv))"
   ]
  },
  {
   "cell_type": "code",
   "execution_count": 13,
   "metadata": {},
   "outputs": [],
   "source": [
    "# parameters = {\n",
    "#     \"gamma\" : [1e-7, 1e-5, 1e-3],\n",
    "#     \"C\" : [1, 2, 10],\n",
    "#     \"kernel\" : ['rbf', 'poly']\n",
    "# }\n",
    "# svr = SVR()\n",
    "# clf = GridSearchCV(svr, parameters, cv=10)\n",
    "# clf.fit(bp_x,ap_hi)\n",
    "# print(clf.best_params_)\n",
    "\n",
    "# gridsearch(bp_x, ap_hi, cv=5)\n",
    "# optimal parameters for predicting ap_hi was kernel='rbf', gamma-1e-5, C=10"
   ]
  },
  {
   "cell_type": "code",
   "execution_count": 14,
   "metadata": {},
   "outputs": [
    {
     "name": "stdout",
     "output_type": "stream",
     "text": [
      "score: 0.102106746148\n",
      "score: [ 0.0914036   0.09411018  0.10124877  0.11017023  0.10340927  0.10893004\n",
      "  0.08409047  0.10112069  0.09635897  0.09789276]\n",
      "coefs: [  4.23736965e-02  -4.45217842e-02   1.54149096e-01   7.97609019e-05\n",
      "  -1.18446195e-03   7.81520774e-04   4.17717146e-04   8.26226057e+11\n",
      "   8.26226057e+11   8.26226057e+11  -2.44140625e-04  -9.15527344e-04]\n"
     ]
    }
   ],
   "source": [
    "# linear regression to predict systolic blood pressure\n",
    "linear_model(bp_x, ap_hi)"
   ]
  },
  {
   "cell_type": "code",
   "execution_count": 15,
   "metadata": {},
   "outputs": [
    {
     "name": "stdout",
     "output_type": "stream",
     "text": [
      "[-0.04432627 -0.03529696 -0.04476734 -0.02437445 -0.03256923 -0.02924846\n",
      " -0.04247407 -0.0378978  -0.03861775 -0.04130921]\n"
     ]
    }
   ],
   "source": [
    "# SVR (with 10-fold CV) to predict systolic blood pressure\n",
    "svr_model(bp_x, ap_hi)"
   ]
  },
  {
   "cell_type": "code",
   "execution_count": 16,
   "metadata": {
    "scrolled": false
   },
   "outputs": [
    {
     "name": "stdout",
     "output_type": "stream",
     "text": [
      "score: 0.0771984295981\n",
      "score: [ 0.07072502  0.07514136  0.0804462   0.08471265  0.09471651  0.08294947\n",
      "  0.05719067  0.07909383  0.08716347  0.07785264]\n",
      "coefs: [  2.70498562e-02  -2.34857499e-02   1.22674120e-01  -2.12556938e-04\n",
      "  -2.06543746e-04   3.33388066e-04   2.99716073e-04   8.82721340e+11\n",
      "   8.82721340e+11   8.82721340e+11  -2.44140625e-04   1.75476074e-04]\n"
     ]
    }
   ],
   "source": [
    "# linear regression to predict diastolic blood pressure\n",
    "linear_model(bp_x, ap_lo)"
   ]
  },
  {
   "cell_type": "code",
   "execution_count": 17,
   "metadata": {},
   "outputs": [
    {
     "name": "stdout",
     "output_type": "stream",
     "text": [
      "[-0.20285133 -0.2239342  -0.22238084 -0.20297716 -0.21970024 -0.21266146\n",
      " -0.19225696 -0.21719457 -0.22509295 -0.20935835]\n"
     ]
    }
   ],
   "source": [
    "# SVR (with 10-fold CV) to predict diastolic blood pressure\n",
    "svr_model(bp_x, ap_lo)"
   ]
  },
  {
   "cell_type": "markdown",
   "metadata": {},
   "source": [
    "Regression models seem to perform abysmally when predicting blood pressure. Let us move on to predicting BMI if height and weight data are removed from the dataset."
   ]
  },
  {
   "cell_type": "code",
   "execution_count": 18,
   "metadata": {},
   "outputs": [
    {
     "name": "stdout",
     "output_type": "stream",
     "text": [
      "score: 0.0598044323885\n",
      "score: [ 0.07122785  0.03582598  0.04956207  0.03961792  0.05058673  0.07954697\n",
      "  0.0494367   0.05885491  0.05556576  0.05726395]\n",
      "coefs: [ 0.14019142 -0.50361754  0.58734375 -1.22441421 -0.06403012  0.78295317\n",
      " -0.11191594  1.68043354 -0.80402527  0.00590529  0.79811998 -0.50708857\n",
      "  1.05521596]\n"
     ]
    }
   ],
   "source": [
    "# linear model to predict bmi\n",
    "linear_model(bmi_x, bmi)"
   ]
  },
  {
   "cell_type": "code",
   "execution_count": 19,
   "metadata": {
    "collapsed": true
   },
   "outputs": [],
   "source": [
    "# svr_model(bmi_x, bmi)  # don't run! doesn't terminate"
   ]
  },
  {
   "cell_type": "code",
   "execution_count": 22,
   "metadata": {},
   "outputs": [
    {
     "name": "stdout",
     "output_type": "stream",
     "text": [
      "score: 0.497537669974\n",
      "score: [ 0.49301779  0.49845656  0.49713362  0.49919153  0.4805233   0.4914731\n",
      "  0.49470744  0.49750074  0.49433907  0.4956624 ]\n",
      "coefs: [[-0.05188486  0.09892022  0.03000578 -0.51896969  0.22403249 -0.00807857\n",
      "   0.08936248 -0.06982473 -0.16451351 -1.09805529  0.10613415  0.04626726]\n",
      " [ 0.04732943  0.15718325 -0.17742769  0.14129653 -0.18533395 -0.15629006\n",
      "  -0.04934248  0.40579308 -0.34580198 -0.50356627 -0.1754845  -0.4890146 ]\n",
      " [-0.01843539 -0.27559852  0.16437231  0.18130682  0.05520637  0.15711056\n",
      "  -0.00880755 -0.71903105  0.0480223   0.63374173  0.1090821   0.43016101]]\n"
     ]
    }
   ],
   "source": [
    "def logistic_model(features, target, cv=10):\n",
    "    X_train, X_test, y_train, y_test = train_test_split(features, target, test_size=0.2, random_state=42)\n",
    "    model = LogisticRegression()\n",
    "    model.fit(X_train, y_train)\n",
    "    print(\"score:\", model.score(X_test, y_test))\n",
    "    print(\"score:\", cross_val_score(model, features, target, cv=cv))\n",
    "    print(\"coefs:\", model.coef_)\n",
    "\n",
    "logistic_model(bp_x, bp)"
   ]
  },
  {
   "cell_type": "code",
   "execution_count": 23,
   "metadata": {
    "collapsed": true
   },
   "outputs": [],
   "source": [
    "def svc_model(features, target, cv=10):\n",
    "    X_train, X_test, y_train, y_test = train_test_split(features, target, test_size=0.2, random_state=42)\n",
    "    model = SVC(kernel='rbf', gamma=1e-5, C=10)\n",
    "    model.fit(X_train, y_train)\n",
    "    print(cross_val_score(model, features, target, cv=cv))\n",
    "\n",
    "#svc_model(bp_x, bp)  # don't run"
   ]
  },
  {
   "cell_type": "code",
   "execution_count": 24,
   "metadata": {
    "collapsed": true
   },
   "outputs": [],
   "source": [
    "from sklearn.neural_network import MLPRegressor, MLPClassifier\n",
    "\n",
    "def mlp_model(features, target, mlp, cv=10):\n",
    "    X_train, X_test, y_train, y_test = train_test_split(features, target, test_size=0.2, random_state=42)\n",
    "    if mlp == 'reg':\n",
    "        model = MLPRegressor(activation='relu', solver='sgd')\n",
    "    else:  # mlp == 'class'\n",
    "        model = MLPClassifier(activation='relu', solver='sgd')\n",
    "    model.fit(X_train, y_train)\n",
    "    print(cross_val_score(model, features, target, cv=cv))"
   ]
  },
  {
   "cell_type": "code",
   "execution_count": 25,
   "metadata": {
    "collapsed": true
   },
   "outputs": [],
   "source": [
    "# parameters = {\n",
    "#     \"hidden_layer_sizes\" : [50, 100, 1000, 5000],\n",
    "#     \"solver\" : ['lbfgs', 'sgd', 'adam'],\n",
    "#     \"alpha\" : [0.00001, 0.0001, 0.001],\n",
    "#     \"early_stopping\" : [True, False]\n",
    "# }\n",
    "# mlp = MLPRegressor()\n",
    "# clf = GridSearchCV(mlp, parameters, cv=10)\n",
    "# clf.fit(bp_x,ap_hi)\n",
    "# print(clf.best_params_)"
   ]
  },
  {
   "cell_type": "code",
   "execution_count": 26,
   "metadata": {
    "collapsed": true
   },
   "outputs": [],
   "source": [
    "# parameters = {\n",
    "#     \"hidden_layer_sizes\" : [50, 100, 1000, 5000],\n",
    "#     \"solver\" : ['sgd', 'adam'],\n",
    "#     \"alpha\" : [0.00001, 0.0001, 0.001],\n",
    "#     \"early_stopping\" : [True, False]\n",
    "# }\n",
    "# mlp = MLPRegressor()\n",
    "# clf = GridSearchCV(mlp, parameters, cv=10)\n",
    "# clf.fit(bmi_x, bmi)\n",
    "# print(clf.best_params_)"
   ]
  },
  {
   "cell_type": "code",
   "execution_count": 27,
   "metadata": {},
   "outputs": [
    {
     "name": "stdout",
     "output_type": "stream",
     "text": [
      "[-0.31538253 -0.21865991 -0.4794237  -0.21387016 -0.42527471 -0.17799035\n",
      " -0.30886067 -0.49417838 -0.31949213 -0.27453083]\n"
     ]
    }
   ],
   "source": [
    "mlp_model(bp_x, ap_hi, 'reg')"
   ]
  },
  {
   "cell_type": "code",
   "execution_count": 28,
   "metadata": {},
   "outputs": [
    {
     "name": "stdout",
     "output_type": "stream",
     "text": [
      "[ 0.07063023  0.03186548  0.04944479  0.04133396  0.04807632  0.07594965\n",
      "  0.05284157  0.05531596  0.05136541  0.05950785]\n"
     ]
    }
   ],
   "source": [
    "mlp_model(bmi_x, bmi, 'reg')"
   ]
  },
  {
   "cell_type": "code",
   "execution_count": 29,
   "metadata": {},
   "outputs": [
    {
     "name": "stdout",
     "output_type": "stream",
     "text": [
      "[ 0.49669264  0.49830957  0.49713362  0.5000735   0.4830222   0.49279624\n",
      "  0.49485445  0.49705969  0.49316277  0.49742685]\n"
     ]
    }
   ],
   "source": [
    "mlp_model(bp_x, bp, 'class')  # 0.49 score"
   ]
  },
  {
   "cell_type": "code",
   "execution_count": 30,
   "metadata": {
    "collapsed": true
   },
   "outputs": [],
   "source": [
    "from sklearn.ensemble import RandomForestRegressor, RandomForestClassifier\n",
    "\n",
    "\n",
    "def rf_model(features, target, rf, cv=10):\n",
    "    X_train, X_test, y_train, y_test = train_test_split(features, target, test_size=0.2, random_state=42)\n",
    "    if rf == 'class':\n",
    "        model = RandomForestClassifier()\n",
    "    else:\n",
    "        model = RandomForestRegressor()\n",
    "    model.fit(X_train, y_train)\n",
    "    print(cross_val_score(model, features, target, cv=cv))"
   ]
  },
  {
   "cell_type": "code",
   "execution_count": 31,
   "metadata": {},
   "outputs": [
    {
     "name": "stdout",
     "output_type": "stream",
     "text": [
      "[-0.16773597 -0.1938024  -0.17566514 -0.13635245 -0.19027966 -0.1699366\n",
      " -0.17773642 -0.17855151 -0.19854142 -0.15137387]\n",
      "[-0.18339704 -0.19213284 -0.16027802 -0.20232289 -0.1952052  -0.15041966\n",
      " -0.18107747 -0.17700604 -0.1833738  -0.18774514]\n",
      "[-0.19293385 -0.11189565 -0.10372419 -0.07581162 -0.11166745 -0.16829259\n",
      " -0.11512757 -0.09485546 -0.20471728 -0.12164069]\n",
      "[ 0.40805527  0.41246509  0.41584595  0.40673232  0.41525797  0.41090856\n",
      "  0.40635107  0.42369891  0.41435083  0.41155712]\n"
     ]
    }
   ],
   "source": [
    "rf_model(bp_x, ap_hi,'reg')\n",
    "rf_model(bp_x, ap_lo,'reg')\n",
    "rf_model(bmi_x, bmi, 'reg')\n",
    "rf_model(bp_x, bp, 'class')  # 0.41 score"
   ]
  },
  {
   "cell_type": "code",
   "execution_count": 32,
   "metadata": {},
   "outputs": [
    {
     "name": "stdout",
     "output_type": "stream",
     "text": [
      "[-0.29112465 -0.35743206 -0.26031132 -0.28167414 -0.34715186 -0.2802849\n",
      " -0.33846927 -0.35338069 -0.30810271 -0.29212834]\n",
      "[-0.29747785 -0.32039484 -0.32399852 -0.35336622 -0.33553613 -0.28414608\n",
      " -0.33036593 -0.32411645 -0.31564097 -0.32766111]\n",
      "[-0.48723121 -0.15011243 -0.14801271 -0.09807763 -0.20914189 -0.20964528\n",
      " -0.20670117 -0.14513721 -0.31980214 -0.16621233]\n",
      "[ 0.39453182  0.39791269  0.41393503  0.40687932  0.40555637  0.40767421\n",
      "  0.39708909  0.40826228  0.40685193  0.40449934]\n"
     ]
    }
   ],
   "source": [
    "from sklearn.ensemble import ExtraTreesRegressor, ExtraTreesClassifier\n",
    "\n",
    "def et_model(features, target, et, cv=10):\n",
    "    X_train, X_test, y_train, y_test = train_test_split(features, target, test_size=0.2, random_state=42)\n",
    "    if et == 'class':\n",
    "        model = ExtraTreesClassifier()\n",
    "    else:\n",
    "        model = ExtraTreesRegressor()\n",
    "    model.fit(X_train, y_train)\n",
    "    print(cross_val_score(model, features, target, cv=cv))\n",
    "\n",
    "et_model(bp_x, ap_hi, 'reg')\n",
    "et_model(bp_x, ap_lo, 'reg')\n",
    "et_model(bmi_x, bmi, 'reg')\n",
    "et_model(bp_x, bp, 'class')"
   ]
  }
 ],
 "metadata": {
  "kernelspec": {
   "display_name": "Python 3",
   "language": "python",
   "name": "python3"
  },
  "language_info": {
   "codemirror_mode": {
    "name": "ipython",
    "version": 3
   },
   "file_extension": ".py",
   "mimetype": "text/x-python",
   "name": "python",
   "nbconvert_exporter": "python",
   "pygments_lexer": "ipython3",
   "version": "3.6.1"
  }
 },
 "nbformat": 4,
 "nbformat_minor": 2
}
