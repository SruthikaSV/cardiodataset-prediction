{
 "cells": [
  {
   "cell_type": "code",
   "execution_count": 31,
   "metadata": {},
   "outputs": [],
   "source": [
    "import pandas as pd\n",
    "import numpy as np\n",
    "from pandas import DataFrame\n",
    "from sklearn import svm\n",
    "from sklearn.model_selection import *\n",
    "from sklearn.naive_bayes import GaussianNB\n",
    "from sklearn.ensemble import RandomForestClassifier\n",
    "from sklearn.linear_model import LogisticRegression\n",
    "from sklearn.neural_network import MLPClassifier\n",
    "from sklearn.neighbors import KNeighborsClassifier\n",
    "from sklearn.metrics import classification_report, accuracy_score"
   ]
  },
  {
   "cell_type": "code",
   "execution_count": 32,
   "metadata": {},
   "outputs": [],
   "source": [
    "#read in dataset\n",
    "cardio_data = pd.read_csv(r'cardio_cleaned.csv').dropna()\n",
    "cardio_data_labels = list(cardio_data)\n",
    "\n",
    "X = cardio_data[cardio_data_labels[0:15]]\n",
    "y = cardio_data['cardio']\n",
    "X_train, X_test, y_train, y_test = train_test_split(X, y, test_size=0.2, random_state=42) #80% training and 20% test"
   ]
  },
  {
   "cell_type": "code",
   "execution_count": 33,
   "metadata": {},
   "outputs": [],
   "source": [
    "#evaluating model\n",
    "def evaluate(C, X_test, y_test):\n",
    "    y_pred = C.predict(X_test)\n",
    "    \n",
    "    k_fold = KFold(10, shuffle = False, random_state = 0) #10-fold cross-validation\n",
    "    cv_scores = cross_val_score(C, X_test, y_test.values.ravel(), cv = k_fold)\n",
    "\n",
    "    print(\"Cross-validation score means: \", cv_scores.mean())\n",
    "    \n",
    "    print(\"Accuracy: \", accuracy_score(y_test, y_pred))\n",
    "    \n",
    "    print(classification_report(y_test, y_pred))"
   ]
  },
  {
   "cell_type": "code",
   "execution_count": 15,
   "metadata": {},
   "outputs": [
    {
     "name": "stdout",
     "output_type": "stream",
     "text": [
      "Accuracy:  0.6026017933264736\n",
      "              precision    recall  f1-score   support\n",
      "\n",
      "         0.0       0.58      0.78      0.66      6884\n",
      "         1.0       0.65      0.42      0.51      6722\n",
      "\n",
      "   micro avg       0.60      0.60      0.60     13606\n",
      "   macro avg       0.62      0.60      0.59     13606\n",
      "weighted avg       0.61      0.60      0.59     13606\n",
      "\n"
     ]
    }
   ],
   "source": [
    "#training SVM SVC w/rbf kernel\n",
    "C = svm.SVC(gamma = 'scale') #create classifier\n",
    "C.fit(X_train, y_train) #train classifier\n",
    "\n",
    "evaluate(C, X_test, y_test)"
   ]
  },
  {
   "cell_type": "code",
   "execution_count": 16,
   "metadata": {},
   "outputs": [
    {
     "name": "stdout",
     "output_type": "stream",
     "text": [
      "Accuracy:  0.5587240923122152\n",
      "              precision    recall  f1-score   support\n",
      "\n",
      "         0.0       0.56      0.60      0.58      6884\n",
      "         1.0       0.56      0.52      0.54      6722\n",
      "\n",
      "   micro avg       0.56      0.56      0.56     13606\n",
      "   macro avg       0.56      0.56      0.56     13606\n",
      "weighted avg       0.56      0.56      0.56     13606\n",
      "\n"
     ]
    }
   ],
   "source": [
    "#training random forest classifier\n",
    "C = RandomForestClassifier(n_estimators = 100)\n",
    "C.fit(X_train, y_train) #train classifier\n",
    "\n",
    "evaluate(C, X_test, y_test)"
   ]
  },
  {
   "cell_type": "code",
   "execution_count": 17,
   "metadata": {},
   "outputs": [
    {
     "name": "stdout",
     "output_type": "stream",
     "text": [
      "Accuracy:  0.6003968837277671\n",
      "              precision    recall  f1-score   support\n",
      "\n",
      "         0.0       0.58      0.79      0.67      6884\n",
      "         1.0       0.66      0.40      0.50      6722\n",
      "\n",
      "   micro avg       0.60      0.60      0.60     13606\n",
      "   macro avg       0.62      0.60      0.58     13606\n",
      "weighted avg       0.62      0.60      0.58     13606\n",
      "\n"
     ]
    }
   ],
   "source": [
    "#training Gaussian Naive Bayes classifier\n",
    "C = GaussianNB()\n",
    "C.fit(X_train, y_train) #train classifier\n",
    "\n",
    "evaluate(C, X_test, y_test)"
   ]
  },
  {
   "cell_type": "code",
   "execution_count": 46,
   "metadata": {},
   "outputs": [
    {
     "name": "stdout",
     "output_type": "stream",
     "text": [
      "Cross-validation score means:  0.5948834118511475\n",
      "Accuracy:  0.6002498897545201\n",
      "              precision    recall  f1-score   support\n",
      "\n",
      "         0.0       0.58      0.78      0.66      6884\n",
      "         1.0       0.65      0.42      0.51      6722\n",
      "\n",
      "   micro avg       0.60      0.60      0.60     13606\n",
      "   macro avg       0.61      0.60      0.59     13606\n",
      "weighted avg       0.61      0.60      0.59     13606\n",
      "\n"
     ]
    }
   ],
   "source": [
    "#training supervised MLP\n",
    "C = MLPClassifier(solver = 'lbfgs', hidden_layer_sizes = (100,))\n",
    "C.fit(X_train, y_train) #train classifier\n",
    "\n",
    "evaluate(C, X_test, y_test)"
   ]
  },
  {
   "cell_type": "code",
   "execution_count": 19,
   "metadata": {},
   "outputs": [
    {
     "name": "stdout",
     "output_type": "stream",
     "text": [
      "Accuracy:  0.5365280023519036\n",
      "              precision    recall  f1-score   support\n",
      "\n",
      "         0.0       0.54      0.55      0.54      6884\n",
      "         1.0       0.53      0.53      0.53      6722\n",
      "\n",
      "   micro avg       0.54      0.54      0.54     13606\n",
      "   macro avg       0.54      0.54      0.54     13606\n",
      "weighted avg       0.54      0.54      0.54     13606\n",
      "\n"
     ]
    }
   ],
   "source": [
    "#training KNN\n",
    "C = KNeighborsClassifier(n_neighbors = 3)\n",
    "C.fit(X_train, y_train) #train classifier\n",
    "\n",
    "evaluate(C, X_test, y_test)"
   ]
  },
  {
   "cell_type": "code",
   "execution_count": 20,
   "metadata": {},
   "outputs": [
    {
     "name": "stdout",
     "output_type": "stream",
     "text": [
      "Accuracy:  0.5998824048214023\n",
      "              precision    recall  f1-score   support\n",
      "\n",
      "         0.0       0.57      0.81      0.67      6884\n",
      "         1.0       0.67      0.38      0.48      6722\n",
      "\n",
      "   micro avg       0.60      0.60      0.60     13606\n",
      "   macro avg       0.62      0.60      0.58     13606\n",
      "weighted avg       0.62      0.60      0.58     13606\n",
      "\n"
     ]
    }
   ],
   "source": [
    "#Training logistic regression model\n",
    "C = LogisticRegression(solver = 'lbfgs')\n",
    "C.fit(X_train, y_train) #train classifier\n",
    "\n",
    "evaluate(C, X_test, y_test)"
   ]
  }
 ],
 "metadata": {
  "kernelspec": {
   "display_name": "Python 3",
   "language": "python",
   "name": "python3"
  },
  "language_info": {
   "codemirror_mode": {
    "name": "ipython",
    "version": 3
   },
   "file_extension": ".py",
   "mimetype": "text/x-python",
   "name": "python",
   "nbconvert_exporter": "python",
   "pygments_lexer": "ipython3",
   "version": "3.7.1"
  }
 },
 "nbformat": 4,
 "nbformat_minor": 2
}
